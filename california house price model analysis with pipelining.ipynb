{
 "cells": [
  {
   "cell_type": "code",
   "execution_count": 61,
   "id": "74f635f4",
   "metadata": {},
   "outputs": [],
   "source": [
    "import pandas as pd \n",
    "import numpy as np\n",
    "from sklearn.model_selection import train_test_split\n",
    "from sklearn.impute import SimpleImputer\n",
    "from sklearn.preprocessing import OneHotEncoder\n",
    "from sklearn.base import BaseEstimator, TransformerMixin\n",
    "from sklearn.pipeline import Pipeline\n",
    "from sklearn.preprocessing import StandardScaler\n",
    "from sklearn.compose import ColumnTransformer\n",
    "from sklearn.preprocessing import OneHotEncoder\n",
    "import warnings\n",
    "def ignore_warn(*args, **kwargs):\n",
    "    pass\n",
    "warnings.warn = ignore_warn #ignore annoying warning (from sklearn and seaborn)"
   ]
  },
  {
   "cell_type": "code",
   "execution_count": 14,
   "id": "9b23c730",
   "metadata": {},
   "outputs": [],
   "source": [
    "data = pd.read_csv(\"housing.csv\")\n",
    "data.drop(\"Unnamed: 0\", axis =1 ,inplace =True)"
   ]
  },
  {
   "cell_type": "code",
   "execution_count": 15,
   "id": "4f4f760f",
   "metadata": {},
   "outputs": [
    {
     "data": {
      "text/html": [
       "<div>\n",
       "<style scoped>\n",
       "    .dataframe tbody tr th:only-of-type {\n",
       "        vertical-align: middle;\n",
       "    }\n",
       "\n",
       "    .dataframe tbody tr th {\n",
       "        vertical-align: top;\n",
       "    }\n",
       "\n",
       "    .dataframe thead th {\n",
       "        text-align: right;\n",
       "    }\n",
       "</style>\n",
       "<table border=\"1\" class=\"dataframe\">\n",
       "  <thead>\n",
       "    <tr style=\"text-align: right;\">\n",
       "      <th></th>\n",
       "      <th>longitude</th>\n",
       "      <th>latitude</th>\n",
       "      <th>housing_median_age</th>\n",
       "      <th>total_rooms</th>\n",
       "      <th>total_bedrooms</th>\n",
       "      <th>population</th>\n",
       "      <th>households</th>\n",
       "      <th>median_income</th>\n",
       "      <th>median_house_value</th>\n",
       "      <th>ocean_proximity</th>\n",
       "    </tr>\n",
       "  </thead>\n",
       "  <tbody>\n",
       "    <tr>\n",
       "      <th>0</th>\n",
       "      <td>-122.23</td>\n",
       "      <td>37.88</td>\n",
       "      <td>41.0</td>\n",
       "      <td>880.0</td>\n",
       "      <td>129.0</td>\n",
       "      <td>322.0</td>\n",
       "      <td>126.0</td>\n",
       "      <td>8.3252</td>\n",
       "      <td>452600.0</td>\n",
       "      <td>NEAR BAY</td>\n",
       "    </tr>\n",
       "    <tr>\n",
       "      <th>1</th>\n",
       "      <td>-122.22</td>\n",
       "      <td>37.86</td>\n",
       "      <td>21.0</td>\n",
       "      <td>7099.0</td>\n",
       "      <td>1106.0</td>\n",
       "      <td>2401.0</td>\n",
       "      <td>1138.0</td>\n",
       "      <td>8.3014</td>\n",
       "      <td>358500.0</td>\n",
       "      <td>NEAR BAY</td>\n",
       "    </tr>\n",
       "    <tr>\n",
       "      <th>2</th>\n",
       "      <td>-122.24</td>\n",
       "      <td>37.85</td>\n",
       "      <td>52.0</td>\n",
       "      <td>1467.0</td>\n",
       "      <td>190.0</td>\n",
       "      <td>496.0</td>\n",
       "      <td>177.0</td>\n",
       "      <td>7.2574</td>\n",
       "      <td>352100.0</td>\n",
       "      <td>NEAR BAY</td>\n",
       "    </tr>\n",
       "    <tr>\n",
       "      <th>3</th>\n",
       "      <td>-122.25</td>\n",
       "      <td>37.85</td>\n",
       "      <td>52.0</td>\n",
       "      <td>1274.0</td>\n",
       "      <td>235.0</td>\n",
       "      <td>558.0</td>\n",
       "      <td>219.0</td>\n",
       "      <td>5.6431</td>\n",
       "      <td>341300.0</td>\n",
       "      <td>NEAR BAY</td>\n",
       "    </tr>\n",
       "    <tr>\n",
       "      <th>4</th>\n",
       "      <td>-122.25</td>\n",
       "      <td>37.85</td>\n",
       "      <td>52.0</td>\n",
       "      <td>1627.0</td>\n",
       "      <td>280.0</td>\n",
       "      <td>565.0</td>\n",
       "      <td>259.0</td>\n",
       "      <td>3.8462</td>\n",
       "      <td>342200.0</td>\n",
       "      <td>NEAR BAY</td>\n",
       "    </tr>\n",
       "  </tbody>\n",
       "</table>\n",
       "</div>"
      ],
      "text/plain": [
       "   longitude  latitude  housing_median_age  total_rooms  total_bedrooms  \\\n",
       "0    -122.23     37.88                41.0        880.0           129.0   \n",
       "1    -122.22     37.86                21.0       7099.0          1106.0   \n",
       "2    -122.24     37.85                52.0       1467.0           190.0   \n",
       "3    -122.25     37.85                52.0       1274.0           235.0   \n",
       "4    -122.25     37.85                52.0       1627.0           280.0   \n",
       "\n",
       "   population  households  median_income  median_house_value ocean_proximity  \n",
       "0       322.0       126.0         8.3252            452600.0        NEAR BAY  \n",
       "1      2401.0      1138.0         8.3014            358500.0        NEAR BAY  \n",
       "2       496.0       177.0         7.2574            352100.0        NEAR BAY  \n",
       "3       558.0       219.0         5.6431            341300.0        NEAR BAY  \n",
       "4       565.0       259.0         3.8462            342200.0        NEAR BAY  "
      ]
     },
     "execution_count": 15,
     "metadata": {},
     "output_type": "execute_result"
    }
   ],
   "source": [
    "data.head()"
   ]
  },
  {
   "cell_type": "code",
   "execution_count": 16,
   "id": "cd3b4904",
   "metadata": {},
   "outputs": [
    {
     "name": "stdout",
     "output_type": "stream",
     "text": [
      "<class 'pandas.core.frame.DataFrame'>\n",
      "RangeIndex: 20640 entries, 0 to 20639\n",
      "Data columns (total 10 columns):\n",
      " #   Column              Non-Null Count  Dtype  \n",
      "---  ------              --------------  -----  \n",
      " 0   longitude           20640 non-null  float64\n",
      " 1   latitude            20640 non-null  float64\n",
      " 2   housing_median_age  20640 non-null  float64\n",
      " 3   total_rooms         20640 non-null  float64\n",
      " 4   total_bedrooms      20433 non-null  float64\n",
      " 5   population          20640 non-null  float64\n",
      " 6   households          20640 non-null  float64\n",
      " 7   median_income       20640 non-null  float64\n",
      " 8   median_house_value  20640 non-null  float64\n",
      " 9   ocean_proximity     20640 non-null  object \n",
      "dtypes: float64(9), object(1)\n",
      "memory usage: 1.6+ MB\n"
     ]
    }
   ],
   "source": [
    "data.info()"
   ]
  },
  {
   "cell_type": "markdown",
   "id": "6a585d7a",
   "metadata": {},
   "source": [
    "our dataset is having one categorical feature and nine numerical features\n",
    "there is null value present in total_bedrooms\n",
    "\n",
    "    1. we will impute these null values with median value of total_bedrooms \n",
    "    2. the dataset have different ranges in terms of values so we will use a standared scaling\n",
    "    3. we have one categorical feature ocean_proximity we do onehot encoding for this feature also\n",
    "    4. we will also try to combine some features and create new features\n",
    "    \n",
    "we will do all these transforms with the help of transformers and pipelining"
   ]
  },
  {
   "cell_type": "markdown",
   "id": "a4c63f74",
   "metadata": {},
   "source": [
    "# train test split"
   ]
  },
  {
   "cell_type": "code",
   "execution_count": 17,
   "id": "fdd6709d",
   "metadata": {},
   "outputs": [],
   "source": [
    "train,test = train_test_split(data, test_size=0.1,random_state=42)"
   ]
  },
  {
   "cell_type": "code",
   "execution_count": 18,
   "id": "5b9b7e1c",
   "metadata": {},
   "outputs": [
    {
     "data": {
      "text/plain": [
       "(18576, 10)"
      ]
     },
     "execution_count": 18,
     "metadata": {},
     "output_type": "execute_result"
    }
   ],
   "source": [
    "train.shape"
   ]
  },
  {
   "cell_type": "code",
   "execution_count": 19,
   "id": "3152c756",
   "metadata": {},
   "outputs": [
    {
     "data": {
      "text/plain": [
       "(2064, 10)"
      ]
     },
     "execution_count": 19,
     "metadata": {},
     "output_type": "execute_result"
    }
   ],
   "source": [
    "test.shape"
   ]
  },
  {
   "cell_type": "code",
   "execution_count": 20,
   "id": "6ed0b712",
   "metadata": {},
   "outputs": [],
   "source": [
    "X_train = train.drop('median_house_value', axis=1)\n",
    "y_train = train['median_house_value']"
   ]
  },
  {
   "cell_type": "markdown",
   "id": "dbd8bbec",
   "metadata": {},
   "source": [
    "# custom transformer"
   ]
  },
  {
   "cell_type": "markdown",
   "id": "74263845",
   "metadata": {},
   "source": [
    "# attribute combination transformer "
   ]
  },
  {
   "cell_type": "code",
   "execution_count": 21,
   "id": "02acb63e",
   "metadata": {},
   "outputs": [
    {
     "ename": "SyntaxError",
     "evalue": "invalid syntax (Temp/ipykernel_6736/4066871513.py, line 1)",
     "output_type": "error",
     "traceback": [
      "\u001b[1;36m  File \u001b[1;32m\"C:\\Users\\USER\\AppData\\Local\\Temp/ipykernel_6736/4066871513.py\"\u001b[1;36m, line \u001b[1;32m1\u001b[0m\n\u001b[1;33m    we will create a transformer for attribute combination as in above code line 13\u001b[0m\n\u001b[1;37m       ^\u001b[0m\n\u001b[1;31mSyntaxError\u001b[0m\u001b[1;31m:\u001b[0m invalid syntax\n"
     ]
    }
   ],
   "source": [
    "we will create a transformer for attribute combination as in above code line 13"
   ]
  },
  {
   "cell_type": "code",
   "execution_count": 22,
   "id": "9e0d8c8c",
   "metadata": {},
   "outputs": [],
   "source": [
    "from sklearn.base import BaseEstimator, TransformerMixin\n",
    "\n",
    "# column index\n",
    "rooms_ix, bedrooms_ix, population_ix, households_ix = 3, 4, 5, 6\n",
    "\n",
    "class CombinedAttrAdder(BaseEstimator,TransformerMixin):\n",
    "    \n",
    "    def __init__(self, add_bedrooms_per_room =True):\n",
    "        self.add_bedrooms_per_room = add_bedrooms_per_room\n",
    "    \n",
    "    def fit(self, X, y= None):\n",
    "        return self\n",
    "    \n",
    "    def transform(self, X):\n",
    "        X[\"rooms_per_household\"] = X[\"total_rooms\"]/X[\"households\"]\n",
    "        X[\"population_per_household\"]=X[\"population\"]/X[\"households\"]\n",
    "        \n",
    "        if self.add_bedrooms_per_room:\n",
    "            X[\"bedrooms_per_room\"] = X[\"total_bedrooms\"]/X[\"total_rooms\"]\n",
    "            return X\n",
    "        else:\n",
    "            return X\n",
    "        \n",
    "        \n"
   ]
  },
  {
   "cell_type": "markdown",
   "id": "68d62792",
   "metadata": {},
   "source": [
    "# missing value imputation transformer"
   ]
  },
  {
   "cell_type": "code",
   "execution_count": 23,
   "id": "8635fbea",
   "metadata": {},
   "outputs": [],
   "source": [
    "#imputer transformer\n",
    "class Imputer(BaseEstimator,TransformerMixin):\n",
    "    \n",
    "    def __init__(self, strategy=\"median\"):\n",
    "        self.strategy = strategy\n",
    "        \n",
    "    def fit(self, X, y= None):\n",
    "        return self\n",
    "    \n",
    "    def transform(self, X, y =None):\n",
    "        if self.strategy:\n",
    "            cols_with_nan = [i for i  in X.columns if X[i].isna().sum() != 0]\n",
    "            Y = X.copy()\n",
    "            for i in cols_with_nan:\n",
    "                median = np.round(Y[i].median(), 6)\n",
    "                Y[i] = Y[i].fillna(median)\n",
    "\n",
    "            return Y"
   ]
  },
  {
   "cell_type": "markdown",
   "id": "7fd85631",
   "metadata": {},
   "source": [
    "# create pipeline"
   ]
  },
  {
   "cell_type": "markdown",
   "id": "c98590b0",
   "metadata": {},
   "source": [
    "we will creat separate pipeline\n",
    "\n",
    "with numerical variables\n",
    "\n",
    "\n",
    "    1. imputation \n",
    "    2. combine attribute\n",
    "    3. scaling \n",
    "    \n",
    "    \n",
    "with cayegorical variables\n",
    "\n",
    "\n",
    "    4. categorical coding"
   ]
  },
  {
   "cell_type": "code",
   "execution_count": 24,
   "id": "9d1244db",
   "metadata": {},
   "outputs": [],
   "source": [
    "numeric_features = [i for i in X_train if X_train[i].dtype != \"object\"]\n",
    "X_num = X_train[numeric_features]"
   ]
  },
  {
   "cell_type": "code",
   "execution_count": 25,
   "id": "4ffcc05e",
   "metadata": {},
   "outputs": [
    {
     "data": {
      "text/html": [
       "<div>\n",
       "<style scoped>\n",
       "    .dataframe tbody tr th:only-of-type {\n",
       "        vertical-align: middle;\n",
       "    }\n",
       "\n",
       "    .dataframe tbody tr th {\n",
       "        vertical-align: top;\n",
       "    }\n",
       "\n",
       "    .dataframe thead th {\n",
       "        text-align: right;\n",
       "    }\n",
       "</style>\n",
       "<table border=\"1\" class=\"dataframe\">\n",
       "  <thead>\n",
       "    <tr style=\"text-align: right;\">\n",
       "      <th></th>\n",
       "      <th>longitude</th>\n",
       "      <th>latitude</th>\n",
       "      <th>housing_median_age</th>\n",
       "      <th>total_rooms</th>\n",
       "      <th>total_bedrooms</th>\n",
       "      <th>population</th>\n",
       "      <th>households</th>\n",
       "      <th>median_income</th>\n",
       "    </tr>\n",
       "  </thead>\n",
       "  <tbody>\n",
       "    <tr>\n",
       "      <th>5564</th>\n",
       "      <td>-118.29</td>\n",
       "      <td>33.91</td>\n",
       "      <td>41.0</td>\n",
       "      <td>2475.0</td>\n",
       "      <td>532.0</td>\n",
       "      <td>1416.0</td>\n",
       "      <td>470.0</td>\n",
       "      <td>3.8372</td>\n",
       "    </tr>\n",
       "    <tr>\n",
       "      <th>16016</th>\n",
       "      <td>-122.46</td>\n",
       "      <td>37.73</td>\n",
       "      <td>52.0</td>\n",
       "      <td>3547.0</td>\n",
       "      <td>506.0</td>\n",
       "      <td>1276.0</td>\n",
       "      <td>491.0</td>\n",
       "      <td>8.0069</td>\n",
       "    </tr>\n",
       "  </tbody>\n",
       "</table>\n",
       "</div>"
      ],
      "text/plain": [
       "       longitude  latitude  housing_median_age  total_rooms  total_bedrooms  \\\n",
       "5564     -118.29     33.91                41.0       2475.0           532.0   \n",
       "16016    -122.46     37.73                52.0       3547.0           506.0   \n",
       "\n",
       "       population  households  median_income  \n",
       "5564       1416.0       470.0         3.8372  \n",
       "16016      1276.0       491.0         8.0069  "
      ]
     },
     "execution_count": 25,
     "metadata": {},
     "output_type": "execute_result"
    }
   ],
   "source": [
    "X_num.head(2)"
   ]
  },
  {
   "cell_type": "code",
   "execution_count": 26,
   "id": "78aa1cf6",
   "metadata": {},
   "outputs": [],
   "source": [
    "num_pipeline = Pipeline([\n",
    "    (\"impute\", Imputer()),\n",
    "    (\"combattri\", CombinedAttrAdder()),\n",
    "    ('scaling', StandardScaler())\n",
    "])\n",
    "\n",
    "Xnum_train = num_pipeline.fit_transform(X_num)"
   ]
  },
  {
   "cell_type": "code",
   "execution_count": 27,
   "id": "758455a2",
   "metadata": {},
   "outputs": [
    {
     "data": {
      "text/html": [
       "<div>\n",
       "<style scoped>\n",
       "    .dataframe tbody tr th:only-of-type {\n",
       "        vertical-align: middle;\n",
       "    }\n",
       "\n",
       "    .dataframe tbody tr th {\n",
       "        vertical-align: top;\n",
       "    }\n",
       "\n",
       "    .dataframe thead th {\n",
       "        text-align: right;\n",
       "    }\n",
       "</style>\n",
       "<table border=\"1\" class=\"dataframe\">\n",
       "  <thead>\n",
       "    <tr style=\"text-align: right;\">\n",
       "      <th></th>\n",
       "      <th>0</th>\n",
       "      <th>1</th>\n",
       "      <th>2</th>\n",
       "      <th>3</th>\n",
       "      <th>4</th>\n",
       "      <th>5</th>\n",
       "      <th>6</th>\n",
       "      <th>7</th>\n",
       "      <th>8</th>\n",
       "      <th>9</th>\n",
       "      <th>10</th>\n",
       "    </tr>\n",
       "  </thead>\n",
       "  <tbody>\n",
       "    <tr>\n",
       "      <th>0</th>\n",
       "      <td>0.641303</td>\n",
       "      <td>-0.808863</td>\n",
       "      <td>0.983513</td>\n",
       "      <td>-0.074574</td>\n",
       "      <td>-0.013988</td>\n",
       "      <td>-0.009699</td>\n",
       "      <td>-0.077683</td>\n",
       "      <td>-0.018837</td>\n",
       "      <td>-0.066315</td>\n",
       "      <td>-0.006443</td>\n",
       "      <td>0.033452</td>\n",
       "    </tr>\n",
       "    <tr>\n",
       "      <th>1</th>\n",
       "      <td>-1.439758</td>\n",
       "      <td>0.980369</td>\n",
       "      <td>1.856793</td>\n",
       "      <td>0.416763</td>\n",
       "      <td>-0.076019</td>\n",
       "      <td>-0.132519</td>\n",
       "      <td>-0.022663</td>\n",
       "      <td>2.185237</td>\n",
       "      <td>0.712744</td>\n",
       "      <td>-0.044325</td>\n",
       "      <td>-1.205692</td>\n",
       "    </tr>\n",
       "    <tr>\n",
       "      <th>2</th>\n",
       "      <td>-1.285051</td>\n",
       "      <td>0.853905</td>\n",
       "      <td>0.110233</td>\n",
       "      <td>0.715140</td>\n",
       "      <td>1.684703</td>\n",
       "      <td>1.097431</td>\n",
       "      <td>1.696072</td>\n",
       "      <td>-0.106583</td>\n",
       "      <td>-0.705284</td>\n",
       "      <td>-0.068481</td>\n",
       "      <td>1.428373</td>\n",
       "    </tr>\n",
       "    <tr>\n",
       "      <th>3</th>\n",
       "      <td>-0.815939</td>\n",
       "      <td>1.462805</td>\n",
       "      <td>-1.001215</td>\n",
       "      <td>-0.471952</td>\n",
       "      <td>-0.577038</td>\n",
       "      <td>-0.557123</td>\n",
       "      <td>-0.559767</td>\n",
       "      <td>-0.377698</td>\n",
       "      <td>0.075494</td>\n",
       "      <td>-0.028728</td>\n",
       "      <td>-0.495671</td>\n",
       "    </tr>\n",
       "    <tr>\n",
       "      <th>4</th>\n",
       "      <td>-0.087318</td>\n",
       "      <td>0.558822</td>\n",
       "      <td>-1.080604</td>\n",
       "      <td>0.071177</td>\n",
       "      <td>-0.243026</td>\n",
       "      <td>-0.014086</td>\n",
       "      <td>-0.153664</td>\n",
       "      <td>0.558387</td>\n",
       "      <td>0.358362</td>\n",
       "      <td>0.010648</td>\n",
       "      <td>-0.975174</td>\n",
       "    </tr>\n",
       "    <tr>\n",
       "      <th>...</th>\n",
       "      <td>...</td>\n",
       "      <td>...</td>\n",
       "      <td>...</td>\n",
       "      <td>...</td>\n",
       "      <td>...</td>\n",
       "      <td>...</td>\n",
       "      <td>...</td>\n",
       "      <td>...</td>\n",
       "      <td>...</td>\n",
       "      <td>...</td>\n",
       "      <td>...</td>\n",
       "    </tr>\n",
       "    <tr>\n",
       "      <th>18571</th>\n",
       "      <td>0.805991</td>\n",
       "      <td>-0.869753</td>\n",
       "      <td>0.507178</td>\n",
       "      <td>-0.599370</td>\n",
       "      <td>-0.803689</td>\n",
       "      <td>-0.674679</td>\n",
       "      <td>-0.740549</td>\n",
       "      <td>1.319983</td>\n",
       "      <td>0.277077</td>\n",
       "      <td>-0.004660</td>\n",
       "      <td>-1.060477</td>\n",
       "    </tr>\n",
       "    <tr>\n",
       "      <th>18572</th>\n",
       "      <td>1.070490</td>\n",
       "      <td>-0.757340</td>\n",
       "      <td>0.348400</td>\n",
       "      <td>0.204553</td>\n",
       "      <td>0.076672</td>\n",
       "      <td>0.285945</td>\n",
       "      <td>-0.132704</td>\n",
       "      <td>-0.434945</td>\n",
       "      <td>0.571327</td>\n",
       "      <td>0.075129</td>\n",
       "      <td>-0.482896</td>\n",
       "    </tr>\n",
       "    <tr>\n",
       "      <th>18573</th>\n",
       "      <td>0.596388</td>\n",
       "      <td>-0.752657</td>\n",
       "      <td>0.586567</td>\n",
       "      <td>-0.245992</td>\n",
       "      <td>0.074286</td>\n",
       "      <td>0.288577</td>\n",
       "      <td>0.071658</td>\n",
       "      <td>-0.496050</td>\n",
       "      <td>-0.575286</td>\n",
       "      <td>0.022774</td>\n",
       "      <td>0.991153</td>\n",
       "    </tr>\n",
       "    <tr>\n",
       "      <th>18574</th>\n",
       "      <td>-1.190230</td>\n",
       "      <td>0.910111</td>\n",
       "      <td>-1.080604</td>\n",
       "      <td>0.429596</td>\n",
       "      <td>0.141089</td>\n",
       "      <td>0.307000</td>\n",
       "      <td>0.155499</td>\n",
       "      <td>0.975975</td>\n",
       "      <td>0.383036</td>\n",
       "      <td>0.008758</td>\n",
       "      <td>-0.788542</td>\n",
       "    </tr>\n",
       "    <tr>\n",
       "      <th>18575</th>\n",
       "      <td>-1.419796</td>\n",
       "      <td>0.999104</td>\n",
       "      <td>1.856793</td>\n",
       "      <td>0.727974</td>\n",
       "      <td>1.854095</td>\n",
       "      <td>1.045671</td>\n",
       "      <td>1.944974</td>\n",
       "      <td>-0.685762</td>\n",
       "      <td>-0.807698</td>\n",
       "      <td>-0.089169</td>\n",
       "      <td>1.682692</td>\n",
       "    </tr>\n",
       "  </tbody>\n",
       "</table>\n",
       "<p>18576 rows × 11 columns</p>\n",
       "</div>"
      ],
      "text/plain": [
       "             0         1         2         3         4         5         6   \\\n",
       "0      0.641303 -0.808863  0.983513 -0.074574 -0.013988 -0.009699 -0.077683   \n",
       "1     -1.439758  0.980369  1.856793  0.416763 -0.076019 -0.132519 -0.022663   \n",
       "2     -1.285051  0.853905  0.110233  0.715140  1.684703  1.097431  1.696072   \n",
       "3     -0.815939  1.462805 -1.001215 -0.471952 -0.577038 -0.557123 -0.559767   \n",
       "4     -0.087318  0.558822 -1.080604  0.071177 -0.243026 -0.014086 -0.153664   \n",
       "...         ...       ...       ...       ...       ...       ...       ...   \n",
       "18571  0.805991 -0.869753  0.507178 -0.599370 -0.803689 -0.674679 -0.740549   \n",
       "18572  1.070490 -0.757340  0.348400  0.204553  0.076672  0.285945 -0.132704   \n",
       "18573  0.596388 -0.752657  0.586567 -0.245992  0.074286  0.288577  0.071658   \n",
       "18574 -1.190230  0.910111 -1.080604  0.429596  0.141089  0.307000  0.155499   \n",
       "18575 -1.419796  0.999104  1.856793  0.727974  1.854095  1.045671  1.944974   \n",
       "\n",
       "             7         8         9         10  \n",
       "0     -0.018837 -0.066315 -0.006443  0.033452  \n",
       "1      2.185237  0.712744 -0.044325 -1.205692  \n",
       "2     -0.106583 -0.705284 -0.068481  1.428373  \n",
       "3     -0.377698  0.075494 -0.028728 -0.495671  \n",
       "4      0.558387  0.358362  0.010648 -0.975174  \n",
       "...         ...       ...       ...       ...  \n",
       "18571  1.319983  0.277077 -0.004660 -1.060477  \n",
       "18572 -0.434945  0.571327  0.075129 -0.482896  \n",
       "18573 -0.496050 -0.575286  0.022774  0.991153  \n",
       "18574  0.975975  0.383036  0.008758 -0.788542  \n",
       "18575 -0.685762 -0.807698 -0.089169  1.682692  \n",
       "\n",
       "[18576 rows x 11 columns]"
      ]
     },
     "execution_count": 27,
     "metadata": {},
     "output_type": "execute_result"
    }
   ],
   "source": [
    "pd.DataFrame(Xnum_train)"
   ]
  },
  {
   "cell_type": "code",
   "execution_count": 28,
   "id": "09d7c3f2",
   "metadata": {},
   "outputs": [
    {
     "data": {
      "text/html": [
       "<div>\n",
       "<style scoped>\n",
       "    .dataframe tbody tr th:only-of-type {\n",
       "        vertical-align: middle;\n",
       "    }\n",
       "\n",
       "    .dataframe tbody tr th {\n",
       "        vertical-align: top;\n",
       "    }\n",
       "\n",
       "    .dataframe thead th {\n",
       "        text-align: right;\n",
       "    }\n",
       "</style>\n",
       "<table border=\"1\" class=\"dataframe\">\n",
       "  <thead>\n",
       "    <tr style=\"text-align: right;\">\n",
       "      <th></th>\n",
       "      <th>longitude</th>\n",
       "      <th>latitude</th>\n",
       "      <th>housing_median_age</th>\n",
       "      <th>total_rooms</th>\n",
       "      <th>total_bedrooms</th>\n",
       "      <th>population</th>\n",
       "      <th>households</th>\n",
       "      <th>median_income</th>\n",
       "    </tr>\n",
       "  </thead>\n",
       "  <tbody>\n",
       "    <tr>\n",
       "      <th>5564</th>\n",
       "      <td>-118.29</td>\n",
       "      <td>33.91</td>\n",
       "      <td>41.0</td>\n",
       "      <td>2475.0</td>\n",
       "      <td>532.0</td>\n",
       "      <td>1416.0</td>\n",
       "      <td>470.0</td>\n",
       "      <td>3.8372</td>\n",
       "    </tr>\n",
       "    <tr>\n",
       "      <th>16016</th>\n",
       "      <td>-122.46</td>\n",
       "      <td>37.73</td>\n",
       "      <td>52.0</td>\n",
       "      <td>3547.0</td>\n",
       "      <td>506.0</td>\n",
       "      <td>1276.0</td>\n",
       "      <td>491.0</td>\n",
       "      <td>8.0069</td>\n",
       "    </tr>\n",
       "    <tr>\n",
       "      <th>17131</th>\n",
       "      <td>-122.15</td>\n",
       "      <td>37.46</td>\n",
       "      <td>30.0</td>\n",
       "      <td>4198.0</td>\n",
       "      <td>1244.0</td>\n",
       "      <td>2678.0</td>\n",
       "      <td>1147.0</td>\n",
       "      <td>3.6712</td>\n",
       "    </tr>\n",
       "    <tr>\n",
       "      <th>11752</th>\n",
       "      <td>-121.21</td>\n",
       "      <td>38.76</td>\n",
       "      <td>16.0</td>\n",
       "      <td>1608.0</td>\n",
       "      <td>296.0</td>\n",
       "      <td>792.0</td>\n",
       "      <td>286.0</td>\n",
       "      <td>3.1583</td>\n",
       "    </tr>\n",
       "    <tr>\n",
       "      <th>2308</th>\n",
       "      <td>-119.75</td>\n",
       "      <td>36.83</td>\n",
       "      <td>15.0</td>\n",
       "      <td>2793.0</td>\n",
       "      <td>436.0</td>\n",
       "      <td>1411.0</td>\n",
       "      <td>441.0</td>\n",
       "      <td>4.9292</td>\n",
       "    </tr>\n",
       "    <tr>\n",
       "      <th>...</th>\n",
       "      <td>...</td>\n",
       "      <td>...</td>\n",
       "      <td>...</td>\n",
       "      <td>...</td>\n",
       "      <td>...</td>\n",
       "      <td>...</td>\n",
       "      <td>...</td>\n",
       "      <td>...</td>\n",
       "    </tr>\n",
       "    <tr>\n",
       "      <th>11284</th>\n",
       "      <td>-117.96</td>\n",
       "      <td>33.78</td>\n",
       "      <td>35.0</td>\n",
       "      <td>1330.0</td>\n",
       "      <td>201.0</td>\n",
       "      <td>658.0</td>\n",
       "      <td>217.0</td>\n",
       "      <td>6.3700</td>\n",
       "    </tr>\n",
       "    <tr>\n",
       "      <th>11964</th>\n",
       "      <td>-117.43</td>\n",
       "      <td>34.02</td>\n",
       "      <td>33.0</td>\n",
       "      <td>3084.0</td>\n",
       "      <td>570.0</td>\n",
       "      <td>1753.0</td>\n",
       "      <td>449.0</td>\n",
       "      <td>3.0500</td>\n",
       "    </tr>\n",
       "    <tr>\n",
       "      <th>5390</th>\n",
       "      <td>-118.38</td>\n",
       "      <td>34.03</td>\n",
       "      <td>36.0</td>\n",
       "      <td>2101.0</td>\n",
       "      <td>569.0</td>\n",
       "      <td>1756.0</td>\n",
       "      <td>527.0</td>\n",
       "      <td>2.9344</td>\n",
       "    </tr>\n",
       "    <tr>\n",
       "      <th>860</th>\n",
       "      <td>-121.96</td>\n",
       "      <td>37.58</td>\n",
       "      <td>15.0</td>\n",
       "      <td>3575.0</td>\n",
       "      <td>597.0</td>\n",
       "      <td>1777.0</td>\n",
       "      <td>559.0</td>\n",
       "      <td>5.7192</td>\n",
       "    </tr>\n",
       "    <tr>\n",
       "      <th>15795</th>\n",
       "      <td>-122.42</td>\n",
       "      <td>37.77</td>\n",
       "      <td>52.0</td>\n",
       "      <td>4226.0</td>\n",
       "      <td>1315.0</td>\n",
       "      <td>2619.0</td>\n",
       "      <td>1242.0</td>\n",
       "      <td>2.5755</td>\n",
       "    </tr>\n",
       "  </tbody>\n",
       "</table>\n",
       "<p>18576 rows × 8 columns</p>\n",
       "</div>"
      ],
      "text/plain": [
       "       longitude  latitude  housing_median_age  total_rooms  total_bedrooms  \\\n",
       "5564     -118.29     33.91                41.0       2475.0           532.0   \n",
       "16016    -122.46     37.73                52.0       3547.0           506.0   \n",
       "17131    -122.15     37.46                30.0       4198.0          1244.0   \n",
       "11752    -121.21     38.76                16.0       1608.0           296.0   \n",
       "2308     -119.75     36.83                15.0       2793.0           436.0   \n",
       "...          ...       ...                 ...          ...             ...   \n",
       "11284    -117.96     33.78                35.0       1330.0           201.0   \n",
       "11964    -117.43     34.02                33.0       3084.0           570.0   \n",
       "5390     -118.38     34.03                36.0       2101.0           569.0   \n",
       "860      -121.96     37.58                15.0       3575.0           597.0   \n",
       "15795    -122.42     37.77                52.0       4226.0          1315.0   \n",
       "\n",
       "       population  households  median_income  \n",
       "5564       1416.0       470.0         3.8372  \n",
       "16016      1276.0       491.0         8.0069  \n",
       "17131      2678.0      1147.0         3.6712  \n",
       "11752       792.0       286.0         3.1583  \n",
       "2308       1411.0       441.0         4.9292  \n",
       "...           ...         ...            ...  \n",
       "11284       658.0       217.0         6.3700  \n",
       "11964      1753.0       449.0         3.0500  \n",
       "5390       1756.0       527.0         2.9344  \n",
       "860        1777.0       559.0         5.7192  \n",
       "15795      2619.0      1242.0         2.5755  \n",
       "\n",
       "[18576 rows x 8 columns]"
      ]
     },
     "execution_count": 28,
     "metadata": {},
     "output_type": "execute_result"
    }
   ],
   "source": [
    "X_num"
   ]
  },
  {
   "cell_type": "markdown",
   "id": "763893b9",
   "metadata": {},
   "source": [
    "# column transformer to add to different pipelines"
   ]
  },
  {
   "cell_type": "code",
   "execution_count": 29,
   "id": "d63714c0",
   "metadata": {},
   "outputs": [],
   "source": [
    "numeric_features = [i for i in X_train if X_train[i].dtype != \"object\"]\n",
    "cat_features = [i for i in X_train if X_train[i].dtype == \"object\"]\n",
    "\n",
    "full_pipeline = ColumnTransformer([\n",
    "    ('num', num_pipeline, numeric_features),\n",
    "    ('cat', OneHotEncoder(), cat_features),\n",
    "])\n",
    "\n",
    "X_train_prepared = full_pipeline.fit_transform(X_train)"
   ]
  },
  {
   "cell_type": "code",
   "execution_count": 30,
   "id": "2c08d207",
   "metadata": {
    "scrolled": true
   },
   "outputs": [],
   "source": [
    "oh = full_pipeline.named_transformers_['cat']"
   ]
  },
  {
   "cell_type": "code",
   "execution_count": 31,
   "id": "2e4cd1ff",
   "metadata": {},
   "outputs": [
    {
     "data": {
      "text/plain": [
       "array(['<1H OCEAN', 'INLAND', 'ISLAND', 'NEAR BAY', 'NEAR OCEAN'],\n",
       "      dtype=object)"
      ]
     },
     "execution_count": 31,
     "metadata": {},
     "output_type": "execute_result"
    }
   ],
   "source": [
    "oh.categories_[0]"
   ]
  },
  {
   "cell_type": "code",
   "execution_count": 32,
   "id": "7739c780",
   "metadata": {},
   "outputs": [
    {
     "data": {
      "text/plain": [
       "array(['longitude', 'latitude', 'housing_median_age', 'total_rooms',\n",
       "       'total_bedrooms', 'population', 'households', 'median_income',\n",
       "       'ocean_proximity'], dtype=object)"
      ]
     },
     "execution_count": 32,
     "metadata": {},
     "output_type": "execute_result"
    }
   ],
   "source": [
    "full_pipeline.feature_names_in_"
   ]
  },
  {
   "cell_type": "code",
   "execution_count": 33,
   "id": "b2434f42",
   "metadata": {},
   "outputs": [],
   "source": [
    "extra_attribs = ['rooms_per_household','population_per_household','bedrooms_per_room']\n",
    "#cat_encoder = cat_pipeline.named_steps[\"cat_encoder\"] # old solution\n",
    "cat_encoder = full_pipeline.named_transformers_[\"cat\"]\n",
    "cat_one_hot_attribs = list(cat_encoder.categories_[0])\n",
    "attributes = numeric_features + extra_attribs + cat_one_hot_attribs"
   ]
  },
  {
   "cell_type": "code",
   "execution_count": 34,
   "id": "98c1c730",
   "metadata": {},
   "outputs": [],
   "source": [
    "X_train_prepared_DF = pd.DataFrame(X_train_prepared, columns= attributes)"
   ]
  },
  {
   "cell_type": "code",
   "execution_count": 35,
   "id": "07f9dbec",
   "metadata": {},
   "outputs": [
    {
     "data": {
      "text/html": [
       "<div>\n",
       "<style scoped>\n",
       "    .dataframe tbody tr th:only-of-type {\n",
       "        vertical-align: middle;\n",
       "    }\n",
       "\n",
       "    .dataframe tbody tr th {\n",
       "        vertical-align: top;\n",
       "    }\n",
       "\n",
       "    .dataframe thead th {\n",
       "        text-align: right;\n",
       "    }\n",
       "</style>\n",
       "<table border=\"1\" class=\"dataframe\">\n",
       "  <thead>\n",
       "    <tr style=\"text-align: right;\">\n",
       "      <th></th>\n",
       "      <th>longitude</th>\n",
       "      <th>latitude</th>\n",
       "      <th>housing_median_age</th>\n",
       "      <th>total_rooms</th>\n",
       "      <th>total_bedrooms</th>\n",
       "      <th>population</th>\n",
       "      <th>households</th>\n",
       "      <th>median_income</th>\n",
       "      <th>rooms_per_household</th>\n",
       "      <th>population_per_household</th>\n",
       "      <th>bedrooms_per_room</th>\n",
       "      <th>&lt;1H OCEAN</th>\n",
       "      <th>INLAND</th>\n",
       "      <th>ISLAND</th>\n",
       "      <th>NEAR BAY</th>\n",
       "      <th>NEAR OCEAN</th>\n",
       "    </tr>\n",
       "  </thead>\n",
       "  <tbody>\n",
       "    <tr>\n",
       "      <th>0</th>\n",
       "      <td>0.641303</td>\n",
       "      <td>-0.808863</td>\n",
       "      <td>0.983513</td>\n",
       "      <td>-0.074574</td>\n",
       "      <td>-0.013988</td>\n",
       "      <td>-0.009699</td>\n",
       "      <td>-0.077683</td>\n",
       "      <td>-0.018837</td>\n",
       "      <td>-0.066315</td>\n",
       "      <td>-0.006443</td>\n",
       "      <td>0.033452</td>\n",
       "      <td>1.0</td>\n",
       "      <td>0.0</td>\n",
       "      <td>0.0</td>\n",
       "      <td>0.0</td>\n",
       "      <td>0.0</td>\n",
       "    </tr>\n",
       "    <tr>\n",
       "      <th>1</th>\n",
       "      <td>-1.439758</td>\n",
       "      <td>0.980369</td>\n",
       "      <td>1.856793</td>\n",
       "      <td>0.416763</td>\n",
       "      <td>-0.076019</td>\n",
       "      <td>-0.132519</td>\n",
       "      <td>-0.022663</td>\n",
       "      <td>2.185237</td>\n",
       "      <td>0.712744</td>\n",
       "      <td>-0.044325</td>\n",
       "      <td>-1.205692</td>\n",
       "      <td>0.0</td>\n",
       "      <td>0.0</td>\n",
       "      <td>0.0</td>\n",
       "      <td>1.0</td>\n",
       "      <td>0.0</td>\n",
       "    </tr>\n",
       "    <tr>\n",
       "      <th>2</th>\n",
       "      <td>-1.285051</td>\n",
       "      <td>0.853905</td>\n",
       "      <td>0.110233</td>\n",
       "      <td>0.715140</td>\n",
       "      <td>1.684703</td>\n",
       "      <td>1.097431</td>\n",
       "      <td>1.696072</td>\n",
       "      <td>-0.106583</td>\n",
       "      <td>-0.705284</td>\n",
       "      <td>-0.068481</td>\n",
       "      <td>1.428373</td>\n",
       "      <td>0.0</td>\n",
       "      <td>0.0</td>\n",
       "      <td>0.0</td>\n",
       "      <td>1.0</td>\n",
       "      <td>0.0</td>\n",
       "    </tr>\n",
       "    <tr>\n",
       "      <th>3</th>\n",
       "      <td>-0.815939</td>\n",
       "      <td>1.462805</td>\n",
       "      <td>-1.001215</td>\n",
       "      <td>-0.471952</td>\n",
       "      <td>-0.577038</td>\n",
       "      <td>-0.557123</td>\n",
       "      <td>-0.559767</td>\n",
       "      <td>-0.377698</td>\n",
       "      <td>0.075494</td>\n",
       "      <td>-0.028728</td>\n",
       "      <td>-0.495671</td>\n",
       "      <td>0.0</td>\n",
       "      <td>1.0</td>\n",
       "      <td>0.0</td>\n",
       "      <td>0.0</td>\n",
       "      <td>0.0</td>\n",
       "    </tr>\n",
       "    <tr>\n",
       "      <th>4</th>\n",
       "      <td>-0.087318</td>\n",
       "      <td>0.558822</td>\n",
       "      <td>-1.080604</td>\n",
       "      <td>0.071177</td>\n",
       "      <td>-0.243026</td>\n",
       "      <td>-0.014086</td>\n",
       "      <td>-0.153664</td>\n",
       "      <td>0.558387</td>\n",
       "      <td>0.358362</td>\n",
       "      <td>0.010648</td>\n",
       "      <td>-0.975174</td>\n",
       "      <td>0.0</td>\n",
       "      <td>1.0</td>\n",
       "      <td>0.0</td>\n",
       "      <td>0.0</td>\n",
       "      <td>0.0</td>\n",
       "    </tr>\n",
       "  </tbody>\n",
       "</table>\n",
       "</div>"
      ],
      "text/plain": [
       "   longitude  latitude  housing_median_age  total_rooms  total_bedrooms  \\\n",
       "0   0.641303 -0.808863            0.983513    -0.074574       -0.013988   \n",
       "1  -1.439758  0.980369            1.856793     0.416763       -0.076019   \n",
       "2  -1.285051  0.853905            0.110233     0.715140        1.684703   \n",
       "3  -0.815939  1.462805           -1.001215    -0.471952       -0.577038   \n",
       "4  -0.087318  0.558822           -1.080604     0.071177       -0.243026   \n",
       "\n",
       "   population  households  median_income  rooms_per_household  \\\n",
       "0   -0.009699   -0.077683      -0.018837            -0.066315   \n",
       "1   -0.132519   -0.022663       2.185237             0.712744   \n",
       "2    1.097431    1.696072      -0.106583            -0.705284   \n",
       "3   -0.557123   -0.559767      -0.377698             0.075494   \n",
       "4   -0.014086   -0.153664       0.558387             0.358362   \n",
       "\n",
       "   population_per_household  bedrooms_per_room  <1H OCEAN  INLAND  ISLAND  \\\n",
       "0                 -0.006443           0.033452        1.0     0.0     0.0   \n",
       "1                 -0.044325          -1.205692        0.0     0.0     0.0   \n",
       "2                 -0.068481           1.428373        0.0     0.0     0.0   \n",
       "3                 -0.028728          -0.495671        0.0     1.0     0.0   \n",
       "4                  0.010648          -0.975174        0.0     1.0     0.0   \n",
       "\n",
       "   NEAR BAY  NEAR OCEAN  \n",
       "0       0.0         0.0  \n",
       "1       1.0         0.0  \n",
       "2       1.0         0.0  \n",
       "3       0.0         0.0  \n",
       "4       0.0         0.0  "
      ]
     },
     "execution_count": 35,
     "metadata": {},
     "output_type": "execute_result"
    }
   ],
   "source": [
    "X_train_prepared_DF.head()"
   ]
  },
  {
   "cell_type": "markdown",
   "id": "9c19bef3",
   "metadata": {},
   "source": [
    "# Model building "
   ]
  },
  {
   "cell_type": "code",
   "execution_count": 36,
   "id": "37c5b3c9",
   "metadata": {},
   "outputs": [],
   "source": [
    "from sklearn.linear_model import LinearRegression\n",
    "from sklearn.tree import DecisionTreeRegressor\n",
    "from sklearn.ensemble import RandomForestRegressor\n",
    "from sklearn.linear_model import SGDRegressor\n",
    "from sklearn.svm import SVR\n",
    "from sklearn.metrics import mean_squared_error\n",
    "import time\n",
    "import xgboost\n",
    "from sklearn.model_selection import cross_val_score\n",
    "\n",
    "#import warnings\n",
    "#warnings.filterwarnings('ignore')\n",
    "\n",
    "\n",
    "def train_model(model, X,y):\n",
    "    start = time.time()\n",
    "    model.fit(X,y)\n",
    "    training_execution_time = time.time() - start\n",
    "    \n",
    "    start = time.time()\n",
    "    y_prd = model.predict(X)\n",
    "    prediction_execution_time = time.time()-start\n",
    "    \n",
    "    rms_error = np.sqrt(mean_squared_error(y,y_prd))\n",
    "    \n",
    "    model_and_predictions_dictionary = {'Regression': str(model),\n",
    "                                        'rms Error': np.round(rms_error, 2),                          \n",
    "                                        'training_execution_time': training_execution_time,\n",
    "                                        'prediction_execution_time': prediction_execution_time\n",
    "                                       }\n",
    "    \n",
    "    performances = pd.DataFrame([[str(model), np.round(rms_error, 2),training_execution_time,prediction_execution_time]], \n",
    "                           columns=['Regression','rms Error','training_execution_time','prediction_execution_time'])\n",
    "    return model_and_predictions_dictionary, performances\n",
    "    "
   ]
  },
  {
   "cell_type": "code",
   "execution_count": 37,
   "id": "b72f1038",
   "metadata": {
    "collapsed": true
   },
   "outputs": [
    {
     "name": "stderr",
     "output_type": "stream",
     "text": [
      "C:\\Users\\USER\\AppData\\Local\\Temp/ipykernel_6736/113254305.py:14: FutureWarning: The frame.append method is deprecated and will be removed from pandas in a future version. Use pandas.concat instead.\n",
      "  dataframe = dataframe.append(performances)\n",
      "C:\\Users\\USER\\AppData\\Local\\Temp/ipykernel_6736/113254305.py:14: FutureWarning: The frame.append method is deprecated and will be removed from pandas in a future version. Use pandas.concat instead.\n",
      "  dataframe = dataframe.append(performances)\n",
      "C:\\Users\\USER\\AppData\\Local\\Temp/ipykernel_6736/113254305.py:14: FutureWarning: The frame.append method is deprecated and will be removed from pandas in a future version. Use pandas.concat instead.\n",
      "  dataframe = dataframe.append(performances)\n",
      "C:\\Users\\USER\\AppData\\Local\\Temp/ipykernel_6736/113254305.py:14: FutureWarning: The frame.append method is deprecated and will be removed from pandas in a future version. Use pandas.concat instead.\n",
      "  dataframe = dataframe.append(performances)\n",
      "C:\\Users\\USER\\AppData\\Local\\Temp/ipykernel_6736/113254305.py:14: FutureWarning: The frame.append method is deprecated and will be removed from pandas in a future version. Use pandas.concat instead.\n",
      "  dataframe = dataframe.append(performances)\n",
      "C:\\Users\\USER\\AppData\\Local\\Temp/ipykernel_6736/113254305.py:14: FutureWarning: The frame.append method is deprecated and will be removed from pandas in a future version. Use pandas.concat instead.\n",
      "  dataframe = dataframe.append(performances)\n"
     ]
    }
   ],
   "source": [
    "regression_dictionary={ 'Linear regression':LinearRegression(random_state=42), \n",
    "                        'Decision tree with depth of two':DecisionTreeRegressor(max_depth=2,random_state=42), \n",
    "                        'Decision tree - unlimited depth':DecisionTreeRegressor(random_state=42), \n",
    "                        'Random forest': RandomForestRegressor(random_state=42,n_jobs=-1),\n",
    "                        'SVR':SVR(kernel=\"linear\"),\n",
    "                        'SGDRegressor': SGDRegressor(random_state=42)\n",
    "                        \n",
    "                       }\n",
    "\n",
    "\n",
    "dataframe = pd.DataFrame()\n",
    "for regression_name in regression_dictionary:\n",
    "    model_and_predictions_dictionary,performances  = train_model(regression_dictionary[regression_name], X_train_prepared_DF,y_train)\n",
    "    dataframe = dataframe.append(performances)"
   ]
  },
  {
   "cell_type": "code",
   "execution_count": 38,
   "id": "ba10ffbe",
   "metadata": {
    "scrolled": true
   },
   "outputs": [
    {
     "data": {
      "text/html": [
       "<div>\n",
       "<style scoped>\n",
       "    .dataframe tbody tr th:only-of-type {\n",
       "        vertical-align: middle;\n",
       "    }\n",
       "\n",
       "    .dataframe tbody tr th {\n",
       "        vertical-align: top;\n",
       "    }\n",
       "\n",
       "    .dataframe thead th {\n",
       "        text-align: right;\n",
       "    }\n",
       "</style>\n",
       "<table border=\"1\" class=\"dataframe\">\n",
       "  <thead>\n",
       "    <tr style=\"text-align: right;\">\n",
       "      <th></th>\n",
       "      <th>Regression</th>\n",
       "      <th>rms Error</th>\n",
       "      <th>training_execution_time</th>\n",
       "      <th>prediction_execution_time</th>\n",
       "    </tr>\n",
       "  </thead>\n",
       "  <tbody>\n",
       "    <tr>\n",
       "      <th>0</th>\n",
       "      <td>LinearRegression()</td>\n",
       "      <td>67605.24</td>\n",
       "      <td>2.018914</td>\n",
       "      <td>0.033979</td>\n",
       "    </tr>\n",
       "    <tr>\n",
       "      <th>0</th>\n",
       "      <td>DecisionTreeRegressor(max_depth=2, random_stat...</td>\n",
       "      <td>81875.86</td>\n",
       "      <td>0.118012</td>\n",
       "      <td>0.005998</td>\n",
       "    </tr>\n",
       "    <tr>\n",
       "      <th>0</th>\n",
       "      <td>DecisionTreeRegressor(random_state=42)</td>\n",
       "      <td>0.00</td>\n",
       "      <td>0.421976</td>\n",
       "      <td>0.015004</td>\n",
       "    </tr>\n",
       "    <tr>\n",
       "      <th>0</th>\n",
       "      <td>RandomForestRegressor(n_jobs=-1, random_state=42)</td>\n",
       "      <td>18430.40</td>\n",
       "      <td>11.011424</td>\n",
       "      <td>0.300985</td>\n",
       "    </tr>\n",
       "    <tr>\n",
       "      <th>0</th>\n",
       "      <td>SVR(kernel='linear')</td>\n",
       "      <td>109710.76</td>\n",
       "      <td>36.541164</td>\n",
       "      <td>24.744713</td>\n",
       "    </tr>\n",
       "    <tr>\n",
       "      <th>0</th>\n",
       "      <td>SGDRegressor(random_state=42)</td>\n",
       "      <td>557822.32</td>\n",
       "      <td>0.100968</td>\n",
       "      <td>0.005985</td>\n",
       "    </tr>\n",
       "  </tbody>\n",
       "</table>\n",
       "</div>"
      ],
      "text/plain": [
       "                                          Regression  rms Error  \\\n",
       "0                                 LinearRegression()   67605.24   \n",
       "0  DecisionTreeRegressor(max_depth=2, random_stat...   81875.86   \n",
       "0             DecisionTreeRegressor(random_state=42)       0.00   \n",
       "0  RandomForestRegressor(n_jobs=-1, random_state=42)   18430.40   \n",
       "0                               SVR(kernel='linear')  109710.76   \n",
       "0                      SGDRegressor(random_state=42)  557822.32   \n",
       "\n",
       "   training_execution_time  prediction_execution_time  \n",
       "0                 2.018914                   0.033979  \n",
       "0                 0.118012                   0.005998  \n",
       "0                 0.421976                   0.015004  \n",
       "0                11.011424                   0.300985  \n",
       "0                36.541164                  24.744713  \n",
       "0                 0.100968                   0.005985  "
      ]
     },
     "execution_count": 38,
     "metadata": {},
     "output_type": "execute_result"
    }
   ],
   "source": [
    "dataframe"
   ]
  },
  {
   "cell_type": "markdown",
   "id": "687f53ea",
   "metadata": {},
   "source": [
    "# Model Evaluation Using cross validation "
   ]
  },
  {
   "cell_type": "code",
   "execution_count": 39,
   "id": "04defa23",
   "metadata": {},
   "outputs": [],
   "source": [
    "\n",
    "\n",
    "def train_modelCV(model, X,y):\n",
    "    start = time.time()\n",
    "    scores = cross_val_score(model, X, y, scoring=\"neg_mean_squared_error\", cv=4)\n",
    "    rmse_scores = np.sqrt(-scores)\n",
    "    \n",
    "    CV_execution_time = time.time()-start\n",
    "    \n",
    "    \n",
    "    \n",
    "    model_and_predictions_dictionary = {'Regression': str(model),\n",
    "                                        'mean rms Error': np.round(rmse_scores.mean(), 2),\n",
    "                                        \"Standard deviation\":np.round(rmse_scores.std(), 2),\n",
    "                                        'CV_execution_time': CV_execution_time,\n",
    "                                        \n",
    "                                       }\n",
    "    \n",
    "    performances = pd.DataFrame([[str(model), np.round(rmse_scores.mean(), 2),np.round(rmse_scores.std(), 2),CV_execution_time]], \n",
    "                           columns=['RegressionCV','mean rms Error','Standard deviation','CV_execution_time'])\n",
    "    return model_and_predictions_dictionary, performances\n",
    "    \n",
    "\n",
    "\n",
    "    \n"
   ]
  },
  {
   "cell_type": "code",
   "execution_count": 40,
   "id": "0827b253",
   "metadata": {
    "collapsed": true
   },
   "outputs": [
    {
     "name": "stderr",
     "output_type": "stream",
     "text": [
      "C:\\Users\\USER\\AppData\\Local\\Temp/ipykernel_6736/2257576779.py:4: FutureWarning: The frame.append method is deprecated and will be removed from pandas in a future version. Use pandas.concat instead.\n",
      "  CVdataframe = CVdataframe.append(performances)\n",
      "C:\\Users\\USER\\AppData\\Local\\Temp/ipykernel_6736/2257576779.py:4: FutureWarning: The frame.append method is deprecated and will be removed from pandas in a future version. Use pandas.concat instead.\n",
      "  CVdataframe = CVdataframe.append(performances)\n",
      "C:\\Users\\USER\\AppData\\Local\\Temp/ipykernel_6736/2257576779.py:4: FutureWarning: The frame.append method is deprecated and will be removed from pandas in a future version. Use pandas.concat instead.\n",
      "  CVdataframe = CVdataframe.append(performances)\n",
      "C:\\Users\\USER\\AppData\\Local\\Temp/ipykernel_6736/2257576779.py:4: FutureWarning: The frame.append method is deprecated and will be removed from pandas in a future version. Use pandas.concat instead.\n",
      "  CVdataframe = CVdataframe.append(performances)\n",
      "C:\\Users\\USER\\AppData\\Local\\Temp/ipykernel_6736/2257576779.py:4: FutureWarning: The frame.append method is deprecated and will be removed from pandas in a future version. Use pandas.concat instead.\n",
      "  CVdataframe = CVdataframe.append(performances)\n",
      "C:\\Users\\USER\\AppData\\Local\\Temp/ipykernel_6736/2257576779.py:4: FutureWarning: The frame.append method is deprecated and will be removed from pandas in a future version. Use pandas.concat instead.\n",
      "  CVdataframe = CVdataframe.append(performances)\n"
     ]
    }
   ],
   "source": [
    "CVdataframe = pd.DataFrame()\n",
    "for regression_name in regression_dictionary:\n",
    "    CVmodel_and_predictions_dictionary,performances  = train_modelCV(regression_dictionary[regression_name], X_train_prepared_DF,y_train)\n",
    "    CVdataframe = CVdataframe.append(performances)"
   ]
  },
  {
   "cell_type": "code",
   "execution_count": 41,
   "id": "96609ef5",
   "metadata": {},
   "outputs": [],
   "source": [
    "CVdataframe['mean rms Error'] = CVdataframe['mean rms Error'].astype(int)\n",
    "CVdataframe['Standard deviation'] = CVdataframe['Standard deviation'].astype(int)"
   ]
  },
  {
   "cell_type": "code",
   "execution_count": 42,
   "id": "57139a5e",
   "metadata": {},
   "outputs": [
    {
     "data": {
      "text/html": [
       "<div>\n",
       "<style scoped>\n",
       "    .dataframe tbody tr th:only-of-type {\n",
       "        vertical-align: middle;\n",
       "    }\n",
       "\n",
       "    .dataframe tbody tr th {\n",
       "        vertical-align: top;\n",
       "    }\n",
       "\n",
       "    .dataframe thead th {\n",
       "        text-align: right;\n",
       "    }\n",
       "</style>\n",
       "<table border=\"1\" class=\"dataframe\">\n",
       "  <thead>\n",
       "    <tr style=\"text-align: right;\">\n",
       "      <th></th>\n",
       "      <th>RegressionCV</th>\n",
       "      <th>mean rms Error</th>\n",
       "      <th>Standard deviation</th>\n",
       "      <th>CV_execution_time</th>\n",
       "    </tr>\n",
       "  </thead>\n",
       "  <tbody>\n",
       "    <tr>\n",
       "      <th>0</th>\n",
       "      <td>LinearRegression()</td>\n",
       "      <td>67914</td>\n",
       "      <td>1332</td>\n",
       "      <td>0.125992</td>\n",
       "    </tr>\n",
       "    <tr>\n",
       "      <th>0</th>\n",
       "      <td>DecisionTreeRegressor(max_depth=2, random_stat...</td>\n",
       "      <td>82280</td>\n",
       "      <td>329</td>\n",
       "      <td>0.212018</td>\n",
       "    </tr>\n",
       "    <tr>\n",
       "      <th>0</th>\n",
       "      <td>DecisionTreeRegressor(random_state=42)</td>\n",
       "      <td>70078</td>\n",
       "      <td>1245</td>\n",
       "      <td>1.253930</td>\n",
       "    </tr>\n",
       "    <tr>\n",
       "      <th>0</th>\n",
       "      <td>RandomForestRegressor(n_jobs=-1, random_state=42)</td>\n",
       "      <td>50164</td>\n",
       "      <td>844</td>\n",
       "      <td>39.571921</td>\n",
       "    </tr>\n",
       "    <tr>\n",
       "      <th>0</th>\n",
       "      <td>SVR(kernel='linear')</td>\n",
       "      <td>111689</td>\n",
       "      <td>664</td>\n",
       "      <td>103.901492</td>\n",
       "    </tr>\n",
       "    <tr>\n",
       "      <th>0</th>\n",
       "      <td>SGDRegressor(random_state=42)</td>\n",
       "      <td>121779362</td>\n",
       "      <td>199133249</td>\n",
       "      <td>0.161992</td>\n",
       "    </tr>\n",
       "  </tbody>\n",
       "</table>\n",
       "</div>"
      ],
      "text/plain": [
       "                                        RegressionCV  mean rms Error  \\\n",
       "0                                 LinearRegression()           67914   \n",
       "0  DecisionTreeRegressor(max_depth=2, random_stat...           82280   \n",
       "0             DecisionTreeRegressor(random_state=42)           70078   \n",
       "0  RandomForestRegressor(n_jobs=-1, random_state=42)           50164   \n",
       "0                               SVR(kernel='linear')          111689   \n",
       "0                      SGDRegressor(random_state=42)       121779362   \n",
       "\n",
       "   Standard deviation  CV_execution_time  \n",
       "0                1332           0.125992  \n",
       "0                 329           0.212018  \n",
       "0                1245           1.253930  \n",
       "0                 844          39.571921  \n",
       "0                 664         103.901492  \n",
       "0           199133249           0.161992  "
      ]
     },
     "execution_count": 42,
     "metadata": {},
     "output_type": "execute_result"
    }
   ],
   "source": [
    "#using crossvalidation\n",
    "CVdataframe"
   ]
  },
  {
   "cell_type": "markdown",
   "id": "40da36ab",
   "metadata": {},
   "source": [
    "# Comparing models performance "
   ]
  },
  {
   "cell_type": "code",
   "execution_count": 43,
   "id": "be5cd076",
   "metadata": {
    "scrolled": true
   },
   "outputs": [
    {
     "data": {
      "text/html": [
       "<div>\n",
       "<style scoped>\n",
       "    .dataframe tbody tr th:only-of-type {\n",
       "        vertical-align: middle;\n",
       "    }\n",
       "\n",
       "    .dataframe tbody tr th {\n",
       "        vertical-align: top;\n",
       "    }\n",
       "\n",
       "    .dataframe thead th {\n",
       "        text-align: right;\n",
       "    }\n",
       "</style>\n",
       "<table border=\"1\" class=\"dataframe\">\n",
       "  <thead>\n",
       "    <tr style=\"text-align: right;\">\n",
       "      <th></th>\n",
       "      <th>Regression</th>\n",
       "      <th>rms Error</th>\n",
       "      <th>training_execution_time</th>\n",
       "      <th>prediction_execution_time</th>\n",
       "    </tr>\n",
       "  </thead>\n",
       "  <tbody>\n",
       "    <tr>\n",
       "      <th>0</th>\n",
       "      <td>LinearRegression()</td>\n",
       "      <td>67605.24</td>\n",
       "      <td>2.018914</td>\n",
       "      <td>0.033979</td>\n",
       "    </tr>\n",
       "    <tr>\n",
       "      <th>0</th>\n",
       "      <td>DecisionTreeRegressor(max_depth=2, random_stat...</td>\n",
       "      <td>81875.86</td>\n",
       "      <td>0.118012</td>\n",
       "      <td>0.005998</td>\n",
       "    </tr>\n",
       "    <tr>\n",
       "      <th>0</th>\n",
       "      <td>DecisionTreeRegressor(random_state=42)</td>\n",
       "      <td>0.00</td>\n",
       "      <td>0.421976</td>\n",
       "      <td>0.015004</td>\n",
       "    </tr>\n",
       "    <tr>\n",
       "      <th>0</th>\n",
       "      <td>RandomForestRegressor(n_jobs=-1, random_state=42)</td>\n",
       "      <td>18430.40</td>\n",
       "      <td>11.011424</td>\n",
       "      <td>0.300985</td>\n",
       "    </tr>\n",
       "    <tr>\n",
       "      <th>0</th>\n",
       "      <td>SVR(kernel='linear')</td>\n",
       "      <td>109710.76</td>\n",
       "      <td>36.541164</td>\n",
       "      <td>24.744713</td>\n",
       "    </tr>\n",
       "    <tr>\n",
       "      <th>0</th>\n",
       "      <td>SGDRegressor(random_state=42)</td>\n",
       "      <td>557822.32</td>\n",
       "      <td>0.100968</td>\n",
       "      <td>0.005985</td>\n",
       "    </tr>\n",
       "  </tbody>\n",
       "</table>\n",
       "</div>"
      ],
      "text/plain": [
       "                                          Regression  rms Error  \\\n",
       "0                                 LinearRegression()   67605.24   \n",
       "0  DecisionTreeRegressor(max_depth=2, random_stat...   81875.86   \n",
       "0             DecisionTreeRegressor(random_state=42)       0.00   \n",
       "0  RandomForestRegressor(n_jobs=-1, random_state=42)   18430.40   \n",
       "0                               SVR(kernel='linear')  109710.76   \n",
       "0                      SGDRegressor(random_state=42)  557822.32   \n",
       "\n",
       "   training_execution_time  prediction_execution_time  \n",
       "0                 2.018914                   0.033979  \n",
       "0                 0.118012                   0.005998  \n",
       "0                 0.421976                   0.015004  \n",
       "0                11.011424                   0.300985  \n",
       "0                36.541164                  24.744713  \n",
       "0                 0.100968                   0.005985  "
      ]
     },
     "execution_count": 43,
     "metadata": {},
     "output_type": "execute_result"
    }
   ],
   "source": [
    "#without crossvalidation\n",
    "dataframe"
   ]
  },
  {
   "cell_type": "code",
   "execution_count": 44,
   "id": "d8e97164",
   "metadata": {},
   "outputs": [
    {
     "data": {
      "text/html": [
       "<div>\n",
       "<style scoped>\n",
       "    .dataframe tbody tr th:only-of-type {\n",
       "        vertical-align: middle;\n",
       "    }\n",
       "\n",
       "    .dataframe tbody tr th {\n",
       "        vertical-align: top;\n",
       "    }\n",
       "\n",
       "    .dataframe thead th {\n",
       "        text-align: right;\n",
       "    }\n",
       "</style>\n",
       "<table border=\"1\" class=\"dataframe\">\n",
       "  <thead>\n",
       "    <tr style=\"text-align: right;\">\n",
       "      <th></th>\n",
       "      <th>RegressionCV</th>\n",
       "      <th>mean rms Error</th>\n",
       "      <th>Standard deviation</th>\n",
       "      <th>CV_execution_time</th>\n",
       "    </tr>\n",
       "  </thead>\n",
       "  <tbody>\n",
       "    <tr>\n",
       "      <th>0</th>\n",
       "      <td>LinearRegression()</td>\n",
       "      <td>67914</td>\n",
       "      <td>1332</td>\n",
       "      <td>0.125992</td>\n",
       "    </tr>\n",
       "    <tr>\n",
       "      <th>0</th>\n",
       "      <td>DecisionTreeRegressor(max_depth=2, random_stat...</td>\n",
       "      <td>82280</td>\n",
       "      <td>329</td>\n",
       "      <td>0.212018</td>\n",
       "    </tr>\n",
       "    <tr>\n",
       "      <th>0</th>\n",
       "      <td>DecisionTreeRegressor(random_state=42)</td>\n",
       "      <td>70078</td>\n",
       "      <td>1245</td>\n",
       "      <td>1.253930</td>\n",
       "    </tr>\n",
       "    <tr>\n",
       "      <th>0</th>\n",
       "      <td>RandomForestRegressor(n_jobs=-1, random_state=42)</td>\n",
       "      <td>50164</td>\n",
       "      <td>844</td>\n",
       "      <td>39.571921</td>\n",
       "    </tr>\n",
       "    <tr>\n",
       "      <th>0</th>\n",
       "      <td>SVR(kernel='linear')</td>\n",
       "      <td>111689</td>\n",
       "      <td>664</td>\n",
       "      <td>103.901492</td>\n",
       "    </tr>\n",
       "    <tr>\n",
       "      <th>0</th>\n",
       "      <td>SGDRegressor(random_state=42)</td>\n",
       "      <td>121779362</td>\n",
       "      <td>199133249</td>\n",
       "      <td>0.161992</td>\n",
       "    </tr>\n",
       "  </tbody>\n",
       "</table>\n",
       "</div>"
      ],
      "text/plain": [
       "                                        RegressionCV  mean rms Error  \\\n",
       "0                                 LinearRegression()           67914   \n",
       "0  DecisionTreeRegressor(max_depth=2, random_stat...           82280   \n",
       "0             DecisionTreeRegressor(random_state=42)           70078   \n",
       "0  RandomForestRegressor(n_jobs=-1, random_state=42)           50164   \n",
       "0                               SVR(kernel='linear')          111689   \n",
       "0                      SGDRegressor(random_state=42)       121779362   \n",
       "\n",
       "   Standard deviation  CV_execution_time  \n",
       "0                1332           0.125992  \n",
       "0                 329           0.212018  \n",
       "0                1245           1.253930  \n",
       "0                 844          39.571921  \n",
       "0                 664         103.901492  \n",
       "0           199133249           0.161992  "
      ]
     },
     "execution_count": 44,
     "metadata": {},
     "output_type": "execute_result"
    }
   ],
   "source": [
    "#using crossvalidation\n",
    "CVdataframe"
   ]
  },
  {
   "cell_type": "markdown",
   "id": "2f9d4a55",
   "metadata": {},
   "source": [
    " Random Forests look very promising. However, note that the score on the training set is still much lower than on the validation sets, meaning that the model is still overfitting the training set. Possible solutions for overfitting are to simplify the model, constrain it (i.e., regularize it), or get a lot more training data. However, before you dive much deeper in Random Forests, you should try out many other models from various categories of Machine Learning algorithms (several Sup‐ port Vector Machines with different kernels, possibly a neural network, etc.), without spending too much time tweaking the hyperparameters. The goal is to shortlist a few (two to five) promising models."
   ]
  },
  {
   "cell_type": "markdown",
   "id": "f715aaaf",
   "metadata": {},
   "source": [
    "# Fine-Tune Your Model"
   ]
  },
  {
   "cell_type": "code",
   "execution_count": 127,
   "id": "d03616b1",
   "metadata": {},
   "outputs": [],
   "source": [
    "###Grid Search"
   ]
  },
  {
   "cell_type": "markdown",
   "id": "7d0c06e6",
   "metadata": {},
   "source": [
    "All you need to\n",
    "do is tell it which hyperparameters you want it to experiment with, and what values to\n",
    "try out, and it will evaluate all the possible combinations of hyperparameter values,\n",
    "using cross-validation.\n",
    "\n",
    "For example, the following code searches for the best combi‐\n",
    "nation of hyperparameter values for the RandomForestRegressor"
   ]
  },
  {
   "cell_type": "code",
   "execution_count": 47,
   "id": "47b92dc1",
   "metadata": {},
   "outputs": [
    {
     "data": {
      "text/html": [
       "<style>#sk-container-id-1 {color: black;background-color: white;}#sk-container-id-1 pre{padding: 0;}#sk-container-id-1 div.sk-toggleable {background-color: white;}#sk-container-id-1 label.sk-toggleable__label {cursor: pointer;display: block;width: 100%;margin-bottom: 0;padding: 0.3em;box-sizing: border-box;text-align: center;}#sk-container-id-1 label.sk-toggleable__label-arrow:before {content: \"▸\";float: left;margin-right: 0.25em;color: #696969;}#sk-container-id-1 label.sk-toggleable__label-arrow:hover:before {color: black;}#sk-container-id-1 div.sk-estimator:hover label.sk-toggleable__label-arrow:before {color: black;}#sk-container-id-1 div.sk-toggleable__content {max-height: 0;max-width: 0;overflow: hidden;text-align: left;background-color: #f0f8ff;}#sk-container-id-1 div.sk-toggleable__content pre {margin: 0.2em;color: black;border-radius: 0.25em;background-color: #f0f8ff;}#sk-container-id-1 input.sk-toggleable__control:checked~div.sk-toggleable__content {max-height: 200px;max-width: 100%;overflow: auto;}#sk-container-id-1 input.sk-toggleable__control:checked~label.sk-toggleable__label-arrow:before {content: \"▾\";}#sk-container-id-1 div.sk-estimator input.sk-toggleable__control:checked~label.sk-toggleable__label {background-color: #d4ebff;}#sk-container-id-1 div.sk-label input.sk-toggleable__control:checked~label.sk-toggleable__label {background-color: #d4ebff;}#sk-container-id-1 input.sk-hidden--visually {border: 0;clip: rect(1px 1px 1px 1px);clip: rect(1px, 1px, 1px, 1px);height: 1px;margin: -1px;overflow: hidden;padding: 0;position: absolute;width: 1px;}#sk-container-id-1 div.sk-estimator {font-family: monospace;background-color: #f0f8ff;border: 1px dotted black;border-radius: 0.25em;box-sizing: border-box;margin-bottom: 0.5em;}#sk-container-id-1 div.sk-estimator:hover {background-color: #d4ebff;}#sk-container-id-1 div.sk-parallel-item::after {content: \"\";width: 100%;border-bottom: 1px solid gray;flex-grow: 1;}#sk-container-id-1 div.sk-label:hover label.sk-toggleable__label {background-color: #d4ebff;}#sk-container-id-1 div.sk-serial::before {content: \"\";position: absolute;border-left: 1px solid gray;box-sizing: border-box;top: 0;bottom: 0;left: 50%;z-index: 0;}#sk-container-id-1 div.sk-serial {display: flex;flex-direction: column;align-items: center;background-color: white;padding-right: 0.2em;padding-left: 0.2em;position: relative;}#sk-container-id-1 div.sk-item {position: relative;z-index: 1;}#sk-container-id-1 div.sk-parallel {display: flex;align-items: stretch;justify-content: center;background-color: white;position: relative;}#sk-container-id-1 div.sk-item::before, #sk-container-id-1 div.sk-parallel-item::before {content: \"\";position: absolute;border-left: 1px solid gray;box-sizing: border-box;top: 0;bottom: 0;left: 50%;z-index: -1;}#sk-container-id-1 div.sk-parallel-item {display: flex;flex-direction: column;z-index: 1;position: relative;background-color: white;}#sk-container-id-1 div.sk-parallel-item:first-child::after {align-self: flex-end;width: 50%;}#sk-container-id-1 div.sk-parallel-item:last-child::after {align-self: flex-start;width: 50%;}#sk-container-id-1 div.sk-parallel-item:only-child::after {width: 0;}#sk-container-id-1 div.sk-dashed-wrapped {border: 1px dashed gray;margin: 0 0.4em 0.5em 0.4em;box-sizing: border-box;padding-bottom: 0.4em;background-color: white;}#sk-container-id-1 div.sk-label label {font-family: monospace;font-weight: bold;display: inline-block;line-height: 1.2em;}#sk-container-id-1 div.sk-label-container {text-align: center;}#sk-container-id-1 div.sk-container {/* jupyter's `normalize.less` sets `[hidden] { display: none; }` but bootstrap.min.css set `[hidden] { display: none !important; }` so we also need the `!important` here to be able to override the default hidden behavior on the sphinx rendered scikit-learn.org. See: https://github.com/scikit-learn/scikit-learn/issues/21755 */display: inline-block !important;position: relative;}#sk-container-id-1 div.sk-text-repr-fallback {display: none;}</style><div id=\"sk-container-id-1\" class=\"sk-top-container\"><div class=\"sk-text-repr-fallback\"><pre>GridSearchCV(cv=5, estimator=RandomForestRegressor(),\n",
       "             param_grid=[{&#x27;max_features&#x27;: [2, 4, 6, 8],\n",
       "                          &#x27;n_estimators&#x27;: [3, 10, 30]},\n",
       "                         {&#x27;bootstrap&#x27;: [False], &#x27;max_features&#x27;: [2, 3, 4],\n",
       "                          &#x27;n_estimators&#x27;: [3, 10]}],\n",
       "             return_train_score=True, scoring=&#x27;neg_mean_squared_error&#x27;)</pre><b>In a Jupyter environment, please rerun this cell to show the HTML representation or trust the notebook. <br />On GitHub, the HTML representation is unable to render, please try loading this page with nbviewer.org.</b></div><div class=\"sk-container\" hidden><div class=\"sk-item sk-dashed-wrapped\"><div class=\"sk-label-container\"><div class=\"sk-label sk-toggleable\"><input class=\"sk-toggleable__control sk-hidden--visually\" id=\"sk-estimator-id-1\" type=\"checkbox\" ><label for=\"sk-estimator-id-1\" class=\"sk-toggleable__label sk-toggleable__label-arrow\">GridSearchCV</label><div class=\"sk-toggleable__content\"><pre>GridSearchCV(cv=5, estimator=RandomForestRegressor(),\n",
       "             param_grid=[{&#x27;max_features&#x27;: [2, 4, 6, 8],\n",
       "                          &#x27;n_estimators&#x27;: [3, 10, 30]},\n",
       "                         {&#x27;bootstrap&#x27;: [False], &#x27;max_features&#x27;: [2, 3, 4],\n",
       "                          &#x27;n_estimators&#x27;: [3, 10]}],\n",
       "             return_train_score=True, scoring=&#x27;neg_mean_squared_error&#x27;)</pre></div></div></div><div class=\"sk-parallel\"><div class=\"sk-parallel-item\"><div class=\"sk-item\"><div class=\"sk-label-container\"><div class=\"sk-label sk-toggleable\"><input class=\"sk-toggleable__control sk-hidden--visually\" id=\"sk-estimator-id-2\" type=\"checkbox\" ><label for=\"sk-estimator-id-2\" class=\"sk-toggleable__label sk-toggleable__label-arrow\">estimator: RandomForestRegressor</label><div class=\"sk-toggleable__content\"><pre>RandomForestRegressor()</pre></div></div></div><div class=\"sk-serial\"><div class=\"sk-item\"><div class=\"sk-estimator sk-toggleable\"><input class=\"sk-toggleable__control sk-hidden--visually\" id=\"sk-estimator-id-3\" type=\"checkbox\" ><label for=\"sk-estimator-id-3\" class=\"sk-toggleable__label sk-toggleable__label-arrow\">RandomForestRegressor</label><div class=\"sk-toggleable__content\"><pre>RandomForestRegressor()</pre></div></div></div></div></div></div></div></div></div></div>"
      ],
      "text/plain": [
       "GridSearchCV(cv=5, estimator=RandomForestRegressor(),\n",
       "             param_grid=[{'max_features': [2, 4, 6, 8],\n",
       "                          'n_estimators': [3, 10, 30]},\n",
       "                         {'bootstrap': [False], 'max_features': [2, 3, 4],\n",
       "                          'n_estimators': [3, 10]}],\n",
       "             return_train_score=True, scoring='neg_mean_squared_error')"
      ]
     },
     "execution_count": 47,
     "metadata": {},
     "output_type": "execute_result"
    }
   ],
   "source": [
    "from sklearn.model_selection import GridSearchCV\n",
    "param_grid = [\n",
    "    {'n_estimators':[3, 10, 30], 'max_features':[2, 4, 6, 8]},\n",
    "    {'bootstrap': [False], 'n_estimators': [3, 10], 'max_features': [2, 3, 4]}\n",
    "]\n",
    "\n",
    "forest_reg = RandomForestRegressor()\n",
    "\n",
    "grid_search = GridSearchCV(forest_reg, param_grid, cv=5,scoring='neg_mean_squared_error', return_train_score=True)\n",
    "\n",
    "grid_search.fit(X_train_prepared_DF,y_train)"
   ]
  },
  {
   "cell_type": "code",
   "execution_count": 48,
   "id": "0e7ebbc1",
   "metadata": {},
   "outputs": [
    {
     "name": "stdout",
     "output_type": "stream",
     "text": [
      "{'max_features': 6, 'n_estimators': 30}\n",
      "RandomForestRegressor(max_features=6, n_estimators=30)\n",
      "best score:   -2423720074.697801\n"
     ]
    }
   ],
   "source": [
    "\n",
    "print(grid_search.best_params_)\n",
    "print(grid_search.best_estimator_)\n",
    "print('best score:  ',grid_search.best_score_)"
   ]
  },
  {
   "cell_type": "code",
   "execution_count": 52,
   "id": "d62737d2",
   "metadata": {},
   "outputs": [
    {
     "name": "stdout",
     "output_type": "stream",
     "text": [
      "{'max_features': 6, 'n_estimators': 150}\n",
      "RandomForestRegressor(max_features=6, n_estimators=150)\n",
      "best score:   -2357617924.810178\n"
     ]
    }
   ],
   "source": [
    "#grid search step2\n",
    "\n",
    "from sklearn.model_selection import GridSearchCV\n",
    "param_grid = [\n",
    "    {'n_estimators':[30,150], 'max_features':[6]},\n",
    "    {'bootstrap': [False], 'n_estimators': [3, 10], 'max_features': [2, 3, 4]}\n",
    "]\n",
    "\n",
    "forest_reg = RandomForestRegressor()\n",
    "\n",
    "grid_search = GridSearchCV(forest_reg, param_grid, cv=5,scoring='neg_mean_squared_error', return_train_score=True)\n",
    "\n",
    "grid_search.fit(X_train_prepared_DF,y_train)\n",
    "\n",
    "print(grid_search.best_params_)\n",
    "print(grid_search.best_estimator_)\n",
    "print('best score:  ',grid_search.best_score_)"
   ]
  },
  {
   "cell_type": "code",
   "execution_count": 53,
   "id": "151d5095",
   "metadata": {
    "scrolled": false
   },
   "outputs": [],
   "source": [
    "# evaluation scores are also available:\n",
    "a = grid_search.cv_results_['mean_test_score']\n",
    "b = grid_search.cv_results_['params']"
   ]
  },
  {
   "cell_type": "code",
   "execution_count": 54,
   "id": "a655bc16",
   "metadata": {},
   "outputs": [
    {
     "name": "stdout",
     "output_type": "stream",
     "text": [
      "49709.15641968289 {'max_features': 6, 'n_estimators': 30}\n",
      "48555.307895328784 {'max_features': 6, 'n_estimators': 150}\n",
      "60760.167326288654 {'bootstrap': False, 'max_features': 2, 'n_estimators': 3}\n",
      "53289.47516647434 {'bootstrap': False, 'max_features': 2, 'n_estimators': 10}\n",
      "59412.310145698604 {'bootstrap': False, 'max_features': 3, 'n_estimators': 3}\n",
      "52006.20705888377 {'bootstrap': False, 'max_features': 3, 'n_estimators': 10}\n",
      "57698.26317671441 {'bootstrap': False, 'max_features': 4, 'n_estimators': 3}\n",
      "50853.675809082015 {'bootstrap': False, 'max_features': 4, 'n_estimators': 10}\n"
     ]
    }
   ],
   "source": [
    "for i,j in zip(a,b):\n",
    "    print(np.sqrt(-i), j)\n",
    "#best rmse 50269.1"
   ]
  },
  {
   "cell_type": "markdown",
   "id": "6d828dc7",
   "metadata": {},
   "source": [
    "\n",
    "The RMSE score for this\n",
    "combination is 49709, which is slightly better than the score you got earlier using the\n",
    "default hyperparameter values (which was 50164)."
   ]
  },
  {
   "cell_type": "markdown",
   "id": "7c9fc8be",
   "metadata": {},
   "source": [
    "# Evaluate Your System on the Test Set"
   ]
  },
  {
   "cell_type": "code",
   "execution_count": 56,
   "id": "fdefd0c1",
   "metadata": {},
   "outputs": [
    {
     "data": {
      "text/html": [
       "<style>#sk-container-id-3 {color: black;background-color: white;}#sk-container-id-3 pre{padding: 0;}#sk-container-id-3 div.sk-toggleable {background-color: white;}#sk-container-id-3 label.sk-toggleable__label {cursor: pointer;display: block;width: 100%;margin-bottom: 0;padding: 0.3em;box-sizing: border-box;text-align: center;}#sk-container-id-3 label.sk-toggleable__label-arrow:before {content: \"▸\";float: left;margin-right: 0.25em;color: #696969;}#sk-container-id-3 label.sk-toggleable__label-arrow:hover:before {color: black;}#sk-container-id-3 div.sk-estimator:hover label.sk-toggleable__label-arrow:before {color: black;}#sk-container-id-3 div.sk-toggleable__content {max-height: 0;max-width: 0;overflow: hidden;text-align: left;background-color: #f0f8ff;}#sk-container-id-3 div.sk-toggleable__content pre {margin: 0.2em;color: black;border-radius: 0.25em;background-color: #f0f8ff;}#sk-container-id-3 input.sk-toggleable__control:checked~div.sk-toggleable__content {max-height: 200px;max-width: 100%;overflow: auto;}#sk-container-id-3 input.sk-toggleable__control:checked~label.sk-toggleable__label-arrow:before {content: \"▾\";}#sk-container-id-3 div.sk-estimator input.sk-toggleable__control:checked~label.sk-toggleable__label {background-color: #d4ebff;}#sk-container-id-3 div.sk-label input.sk-toggleable__control:checked~label.sk-toggleable__label {background-color: #d4ebff;}#sk-container-id-3 input.sk-hidden--visually {border: 0;clip: rect(1px 1px 1px 1px);clip: rect(1px, 1px, 1px, 1px);height: 1px;margin: -1px;overflow: hidden;padding: 0;position: absolute;width: 1px;}#sk-container-id-3 div.sk-estimator {font-family: monospace;background-color: #f0f8ff;border: 1px dotted black;border-radius: 0.25em;box-sizing: border-box;margin-bottom: 0.5em;}#sk-container-id-3 div.sk-estimator:hover {background-color: #d4ebff;}#sk-container-id-3 div.sk-parallel-item::after {content: \"\";width: 100%;border-bottom: 1px solid gray;flex-grow: 1;}#sk-container-id-3 div.sk-label:hover label.sk-toggleable__label {background-color: #d4ebff;}#sk-container-id-3 div.sk-serial::before {content: \"\";position: absolute;border-left: 1px solid gray;box-sizing: border-box;top: 0;bottom: 0;left: 50%;z-index: 0;}#sk-container-id-3 div.sk-serial {display: flex;flex-direction: column;align-items: center;background-color: white;padding-right: 0.2em;padding-left: 0.2em;position: relative;}#sk-container-id-3 div.sk-item {position: relative;z-index: 1;}#sk-container-id-3 div.sk-parallel {display: flex;align-items: stretch;justify-content: center;background-color: white;position: relative;}#sk-container-id-3 div.sk-item::before, #sk-container-id-3 div.sk-parallel-item::before {content: \"\";position: absolute;border-left: 1px solid gray;box-sizing: border-box;top: 0;bottom: 0;left: 50%;z-index: -1;}#sk-container-id-3 div.sk-parallel-item {display: flex;flex-direction: column;z-index: 1;position: relative;background-color: white;}#sk-container-id-3 div.sk-parallel-item:first-child::after {align-self: flex-end;width: 50%;}#sk-container-id-3 div.sk-parallel-item:last-child::after {align-self: flex-start;width: 50%;}#sk-container-id-3 div.sk-parallel-item:only-child::after {width: 0;}#sk-container-id-3 div.sk-dashed-wrapped {border: 1px dashed gray;margin: 0 0.4em 0.5em 0.4em;box-sizing: border-box;padding-bottom: 0.4em;background-color: white;}#sk-container-id-3 div.sk-label label {font-family: monospace;font-weight: bold;display: inline-block;line-height: 1.2em;}#sk-container-id-3 div.sk-label-container {text-align: center;}#sk-container-id-3 div.sk-container {/* jupyter's `normalize.less` sets `[hidden] { display: none; }` but bootstrap.min.css set `[hidden] { display: none !important; }` so we also need the `!important` here to be able to override the default hidden behavior on the sphinx rendered scikit-learn.org. See: https://github.com/scikit-learn/scikit-learn/issues/21755 */display: inline-block !important;position: relative;}#sk-container-id-3 div.sk-text-repr-fallback {display: none;}</style><div id=\"sk-container-id-3\" class=\"sk-top-container\"><div class=\"sk-text-repr-fallback\"><pre>RandomForestRegressor(max_features=6, n_estimators=150)</pre><b>In a Jupyter environment, please rerun this cell to show the HTML representation or trust the notebook. <br />On GitHub, the HTML representation is unable to render, please try loading this page with nbviewer.org.</b></div><div class=\"sk-container\" hidden><div class=\"sk-item\"><div class=\"sk-estimator sk-toggleable\"><input class=\"sk-toggleable__control sk-hidden--visually\" id=\"sk-estimator-id-7\" type=\"checkbox\" checked><label for=\"sk-estimator-id-7\" class=\"sk-toggleable__label sk-toggleable__label-arrow\">RandomForestRegressor</label><div class=\"sk-toggleable__content\"><pre>RandomForestRegressor(max_features=6, n_estimators=150)</pre></div></div></div></div></div>"
      ],
      "text/plain": [
       "RandomForestRegressor(max_features=6, n_estimators=150)"
      ]
     },
     "execution_count": 56,
     "metadata": {},
     "output_type": "execute_result"
    }
   ],
   "source": [
    "grid_search.best_estimator_"
   ]
  },
  {
   "cell_type": "code",
   "execution_count": 63,
   "id": "7a187d92",
   "metadata": {},
   "outputs": [],
   "source": [
    "final_model = grid_search.best_estimator_\n",
    "X_test = test.drop(\"median_house_value\", axis=1)\n",
    "y_test = test[\"median_house_value\"].copy()\n",
    "X_test_prepared = full_pipeline.transform(X_test)\n",
    "\n",
    "\n",
    "final_predictions = final_model.predict(X_test_prepared)\n",
    "final_mse = mean_squared_error(y_test, final_predictions)\n",
    "final_rmse = np.sqrt(final_mse)"
   ]
  },
  {
   "cell_type": "code",
   "execution_count": 62,
   "id": "bba3f12c",
   "metadata": {},
   "outputs": [
    {
     "name": "stdout",
     "output_type": "stream",
     "text": [
      "mse: 2395830120.968115\n",
      "rmse: 48947.21770405459\n",
      "R2 SCORE 0.8203499317047807\n"
     ]
    }
   ],
   "source": [
    "print('mse:',final_mse)\n",
    "print('rmse:',final_rmse)\n",
    "print('R2 SCORE',final_model.score(X_test_prepared,y_test))"
   ]
  },
  {
   "cell_type": "code",
   "execution_count": null,
   "id": "8936a526",
   "metadata": {},
   "outputs": [],
   "source": []
  }
 ],
 "metadata": {
  "kernelspec": {
   "display_name": "Python 3 (ipykernel)",
   "language": "python",
   "name": "python3"
  },
  "language_info": {
   "codemirror_mode": {
    "name": "ipython",
    "version": 3
   },
   "file_extension": ".py",
   "mimetype": "text/x-python",
   "name": "python",
   "nbconvert_exporter": "python",
   "pygments_lexer": "ipython3",
   "version": "3.9.7"
  }
 },
 "nbformat": 4,
 "nbformat_minor": 5
}
